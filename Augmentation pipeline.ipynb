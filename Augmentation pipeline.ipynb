{
 "cells": [
  {
   "cell_type": "markdown",
   "id": "020bc6d6",
   "metadata": {},
   "source": [
    "<h3>Requirements and import</h3>"
   ]
  },
  {
   "cell_type": "code",
   "execution_count": null,
   "id": "8be183ce",
   "metadata": {},
   "outputs": [],
   "source": [
    "!git clone https://www.github.com/GEM-benchmark/NL-Augmenter\n",
    "!cd /path/to/extracted/NL-Augmenter\n",
    "!python setup.py sdist\n",
    "!pip install -e .\n",
    "!pip install -r requirements.txt --quiet\n",
    "!pip install https://github.com/explosion/spacy-models/releases/download/en_core_web_sm-3.0.0/en_core_web_sm-3.0.0.tar.gz\n",
    "!pip install https://github.com/huggingface/neuralcoref-models/releases/download/en_coref_sm-3.0.0/en_coref_sm-3.0.0.tar.gz\n",
    "!pip install torch==1.7.1\n",
    "!pip install checklist\n",
    "!pip install sacrebleu\n",
    "!pip install torchtext==0.8.0\n",
    "!pip install benepar\n",
    "!pip install sacremoses"
   ]
  },
  {
   "cell_type": "code",
   "execution_count": null,
   "id": "c8a13193",
   "metadata": {
    "scrolled": true
   },
   "outputs": [],
   "source": [
    "#some other interestings augmenters are commented, because they require too much computational power\n",
    "\n",
    "from nlaugmenter.transformations.factive_verb_transformation import FactiveVerbTransformation\n",
    "from nlaugmenter.transformations.formality_change import Formal2Casual\n",
    "#from nlaugmenter.transformations.lost_in_translation import LostInTranslation\n",
    "from nlaugmenter.transformations.replace_with_hyponyms_hypernyms import ReplaceHypernyms\n",
    "from nlaugmenter.transformations.style_paraphraser import StyleTransferParaphraser\n",
    "#from nlaugmenter.transformations.suspecting_paraphraser import SuspectingParaphraser\n",
    "from nlaugmenter.transformations.synonym_substitution import SynonymSubstitution\n",
    "#from nlaugmenter.transformations.yes_no_question import YesNoQuestionPerturbation\n",
    "#from nlaugmenter.transformations.adjectives_antonyms_switch import SentenceAdjectivesAntonymsSwitch\n",
    "#from nlaugmenter.transformations.antonyms_substitute import AntonymsSubstitute\n",
    "#from nlaugmenter.transformations.auxiliary_negation_removal import SentenceAuxiliaryNegationRemoval\n",
    "from nlaugmenter.transformations.back_translation import BackTranslation\n",
    "#from nlaugmenter.transformations.contextual_meaning_perturbation import ContextualMeaningPerturbation\n",
    "from nlaugmenter.transformations.filler_word_augmentation import FillerWordAugmentation\n",
    "#from nlaugmenter.transformations.negate_strengthen import NegateStrengthen\n",
    "from nlaugmenter.transformations.protaugment_diverse_paraphrase import ProtaugmentDiverseParaphrase\n",
    "#from nlaugmenter.transformations.quora_trained_t5_for_qa import QuoraT5QaPairGenerator\n",
    "#from nlaugmenter.transformations.sentence_additions import SentenceAdditions\n",
    "from nlaugmenter.transformations.slangificator import Slangificator\n",
    "#from nlaugmenter.transformations.syntactically_diverse_paraphrase import ParaphraseSowReap\n",
    "from nlaugmenter.transformations.factive_verb_transformation import *"
   ]
  },
  {
   "cell_type": "code",
   "execution_count": null,
   "id": "e54b650d",
   "metadata": {},
   "outputs": [],
   "source": [
    "import itertools, re, time\n",
    "import pprint as pp\n",
    "import pandas as pd\n",
    "import ast\n",
    "import copy"
   ]
  },
  {
   "cell_type": "markdown",
   "id": "9cc49bb2",
   "metadata": {},
   "source": [
    "<h3>Wrapping augmentation techniques that require utterance splitting</h3>"
   ]
  },
  {
   "cell_type": "code",
   "execution_count": null,
   "id": "e3ed17ab",
   "metadata": {
    "scrolled": true
   },
   "outputs": [],
   "source": [
    "#replaces common nouns with other related words that are either hyponyms or hypernyms\n",
    "class HyperNymAugmentation():\n",
    "    \n",
    "    def generate(self, utterance):\n",
    "        tr = ReplaceHypernyms()\n",
    "        result = []\n",
    "        if \". \" in utterance:\n",
    "            for sentence in utterance.split(\". \"):\n",
    "                aug_pool = tr.generate(sentence)\n",
    "                for aug_sentence in aug_pool:\n",
    "                    result.append(aug_sentence)\n",
    "        else:\n",
    "            aug_pool = tr.generate(utterance)\n",
    "            for aug_sentence in aug_pool:\n",
    "                result.append(aug_sentence)\n",
    "        \n",
    "        result = list(itertools.chain.from_iterable(result))\n",
    "        result = \"\".join(result).replace('\\\\','')\n",
    "        result = re.sub('\\n+', ' ', result)\n",
    "        return result"
   ]
  },
  {
   "cell_type": "code",
   "execution_count": null,
   "id": "54310a43",
   "metadata": {},
   "outputs": [],
   "source": [
    "class SentenceAdd():\n",
    "    def generate(self, utterance):\n",
    "        tr = SentenceAdditions()\n",
    "        result = []\n",
    "        if \". \" in utterance:\n",
    "            for sentence in utterance.split(\". \"):\n",
    "                    result.append(tr.generate(sentence))\n",
    "        else:\n",
    "            result.append(tr.generate(utterance))\n",
    "        result = list(itertools.chain.from_iterable(result))\n",
    "        result = \"\".join(result).replace('\\\\','')\n",
    "        result = re.sub('\\n+', ' ', result)\n",
    "        return result"
   ]
  },
  {
   "cell_type": "markdown",
   "id": "f6d00359",
   "metadata": {},
   "source": [
    "<h3>Instantiating the augmentation pipeline</h3>\n",
    "More info about each augmenter can be found in NL-Augmenter repo.\n",
    "\n",
    "Please note this code is also present in the Anno-MI augmentation notebook. This is meant to be here just as a standalone playground."
   ]
  },
  {
   "cell_type": "code",
   "execution_count": null,
   "id": "759f20a3",
   "metadata": {
    "scrolled": true
   },
   "outputs": [],
   "source": [
    "'''This is necessary on some devices to avoid conflicts in NL-augmenter'''\n",
    "cd /path/to/NL-Augmenter/\n",
    "cd /path/to/NL-Augmenter/nlaugmenter/transformations/factive_verb_transformation"
   ]
  },
  {
   "cell_type": "code",
   "execution_count": null,
   "id": "8baa5088",
   "metadata": {
    "scrolled": true
   },
   "outputs": [],
   "source": [
    "#Check below for information on each element. Computationally intensive ones are omitted.\n",
    "\n",
    "start_time = time.time()\n",
    "print(\"Instantiating augmenters, this may take a while...\")\n",
    "augmenters = [(FactiveVerbTransformation(),\"FactiveVerb\"), \n",
    "              (Formal2Casual(),\"Formal2Casual\"), \n",
    "              #(LostInTranslation(),\"LostInTranslation\"), \n",
    "              (HyperNymAugmentation(),\"Hypernym substitution\"),\n",
    "              (StyleTransferParaphraser(style=\"Basic\"),\"Basic style\"),\n",
    "              (StyleTransferParaphraser(style=\"Tweets\"),\"Tweet style\"),\n",
    "              (SynonymSubstitution(),\"Synonym substitution\"),\n",
    "              (BackTranslation(),\"Backtranslation\"),\n",
    "              (FillerWordAugmentation(),\"Filler Word\"),\n",
    "              (ProtaugmentDiverseParaphrase(),\"ProtAugment\"),\n",
    "              #(SentenceAdd(),\"Sentence Add\"),\n",
    "              (Slangificator(),\"Slangificator\"), \n",
    "              #(ParaphraseSowReap(max_outputs=4),\"Sow Reap\")\n",
    "             ]\n",
    "print(f\"Augmenters instantiated ({round(time.time()-start_time,2)} seconds)\")"
   ]
  },
  {
   "cell_type": "markdown",
   "id": "6ef1591c",
   "metadata": {},
   "source": [
    "<h3>Augmentation playground (testing individual elements)</h3"
   ]
  },
  {
   "cell_type": "code",
   "execution_count": null,
   "id": "68fef1e8",
   "metadata": {
    "scrolled": true
   },
   "outputs": [],
   "source": [
    "#adds noise to all types if text source (sentence, paragraph, etc.) by adding factive verbs based paraphrases\n",
    "tr = FactiveVerbTransformation()\n",
    "tr.generate(input_sentence)"
   ]
  },
  {
   "cell_type": "code",
   "execution_count": null,
   "id": "be20e163",
   "metadata": {},
   "outputs": [],
   "source": [
    "#Transfers text style from formal to informal and informal to formal\n",
    "tr = Formal2Casual()\n",
    "tr.generate(input_sentence)"
   ]
  },
  {
   "cell_type": "code",
   "execution_count": null,
   "id": "2e4b601d",
   "metadata": {
    "scrolled": true
   },
   "outputs": [],
   "source": [
    "#longer BackTranslation (any languages supported by Helsinki-NLP OpusMT models)\n",
    "tr = LostInTranslation(max_outputs=3)\n",
    "tr.generate(input_sentence)"
   ]
  },
  {
   "cell_type": "code",
   "execution_count": null,
   "id": "ad9109c9",
   "metadata": {},
   "outputs": [],
   "source": [
    "hyper_aug = HyperNymAugmentation()\n",
    "tr.generate(input_sentence)"
   ]
  },
  {
   "cell_type": "code",
   "execution_count": null,
   "id": "2156dd00",
   "metadata": {
    "scrolled": true
   },
   "outputs": [],
   "source": [
    "#provides a range of possible styles of writing, enabling an easy use of style transfer paraphrase models originally introduced in the paper Reformulating Unsupervised Style Transfer as Paraphrase Generation (2020)\n",
    "tr = StyleTransferParaphraser(style=\"Tweets\")\n",
    "tr.generate(input_sentence)"
   ]
  },
  {
   "cell_type": "code",
   "execution_count": null,
   "id": "4e25d1ed",
   "metadata": {
    "scrolled": true
   },
   "outputs": [],
   "source": [
    "#This paraphraser transforms a yes/no question into a tag question, which helps to add more question specific informality to the dataset.\n",
    "# must check more about this\n",
    "tr = SuspectingParaphraser()\n",
    "tr.generate(\"Well, I don't think that I'm ready to cut down to seven drinks a week. That seems like a lot but I would consider cutting back to two drinks a night. I think that would be my goal.\",\n",
    "            \"can you improve on alcohol consumption?\",\n",
    "            \"Yes\")"
   ]
  },
  {
   "cell_type": "code",
   "execution_count": null,
   "id": "d0158516",
   "metadata": {
    "scrolled": true
   },
   "outputs": [],
   "source": [
    "#adds noise to all types of text sources (sentence, paragraph, etc.) by randomly substituting words with their synonyms.\n",
    "tr = SynonymSubstitution()\n",
    "tr.generate(input_sentence)"
   ]
  },
  {
   "cell_type": "code",
   "execution_count": null,
   "id": "51a0d6c6",
   "metadata": {
    "scrolled": true
   },
   "outputs": [],
   "source": [
    "tr = YesNoQuestionPerturbation()\n",
    "tr.generate(input_sentence)"
   ]
  },
  {
   "cell_type": "code",
   "execution_count": null,
   "id": "3355305d",
   "metadata": {},
   "outputs": [],
   "source": [
    "#Switches English adjectives in a sentence with their antonyms to generate new sentences with opposite meanings\n",
    "tr = SentenceAdjectivesAntonymsSwitch()\n",
    "tr.generate(input_sentence)"
   ]
  },
  {
   "cell_type": "code",
   "execution_count": null,
   "id": "896ebec5",
   "metadata": {
    "scrolled": true
   },
   "outputs": [],
   "source": [
    "#Aims to substitute an even number of words with their antonyms which would increase the diversity of the given content. Its double negation mechanism does not revert original sentence semantics.\n",
    "tr = AntonymsSubstitute()\n",
    "tr.generate(input_sentence)"
   ]
  },
  {
   "cell_type": "code",
   "execution_count": null,
   "id": "651d91d3",
   "metadata": {},
   "outputs": [],
   "source": [
    "#Removes the negation of English auxiliaries to generate new sentences with opposite meanings\n",
    "tr = SentenceAuxiliaryNegationRemoval()\n",
    "tr.generate(input_sentence)"
   ]
  },
  {
   "cell_type": "code",
   "execution_count": null,
   "id": "74babaf0",
   "metadata": {},
   "outputs": [],
   "source": [
    "#translates a given English sentence into German and back to English.\n",
    "tr = BackTranslation()\n",
    "tr.generate(input_sentence)"
   ]
  },
  {
   "cell_type": "code",
   "execution_count": null,
   "id": "45e3f8ad",
   "metadata": {},
   "outputs": [],
   "source": [
    "#changes the meaning of the sentence while avoiding grammar, spelling and logical mistakes.\n",
    "tr = ContextualMeaningPerturbation(perturbation_rate=0.5)\n",
    "tr.generate(input_sentence)"
   ]
  },
  {
   "cell_type": "code",
   "execution_count": null,
   "id": "c2dc1537",
   "metadata": {},
   "outputs": [],
   "source": [
    "# adds noise to all types of text sources (sentence, paragraph, etc.) by inserting filler words and phrases (\"ehh\", \"urr\", \"perhaps\", \"you know\") in the text.\n",
    "tr = FillerWordAugmentation()\n",
    "tr.generate(input_sentence)"
   ]
  },
  {
   "cell_type": "code",
   "execution_count": null,
   "id": "c049b753",
   "metadata": {},
   "outputs": [],
   "source": [
    "#transfers text style from formal to informal and informal to formal.\n",
    "tr = Formal2Casual()\n",
    "tr.generate(input_sentence)"
   ]
  },
  {
   "cell_type": "code",
   "execution_count": null,
   "id": "1101fff6",
   "metadata": {
    "scrolled": true
   },
   "outputs": [],
   "source": [
    "#This transformation method is from the paper PROTAUGMENT: Unsupervised diverse short-texts paraphrasing for intent detection meta-learning\n",
    "tr = ProtaugmentDiverseParaphrase()\n",
    "tr.generate(input_sentence)"
   ]
  },
  {
   "cell_type": "code",
   "execution_count": null,
   "id": "5a3b8d24",
   "metadata": {
    "scrolled": true
   },
   "outputs": [],
   "source": [
    "#This transformation creates new QA pairs in English by generating question paraphrases from a T5 model fine-tuned on Quora Question pairs (English question-question pairs).\n",
    "tr = QuoraT5QaPairGenerator()\n",
    "tr.generate(context=\"That seems like a lot but I would consider cutting back to two drinks a night.\",\n",
    "            question=\"Well, I don't think that I'm ready to cut down to seven drinks a week.\",\n",
    "            answers=\"I think that would be my goal.\")"
   ]
  },
  {
   "cell_type": "code",
   "execution_count": null,
   "id": "aa029199",
   "metadata": {},
   "outputs": [],
   "source": [
    "#adds generated sentence to all types of text sources (sentence, paragraph, etc.) by passing the input text to a GPT-2 Text Generation model\n",
    "tr = SentenceAdditions()\n",
    "tr.generate(input_sentence)\n",
    "for sentence in utterance.split(\". \"):\n",
    "    print(tr.generate(sentence).strip(\"\\\\\"))"
   ]
  },
  {
   "cell_type": "code",
   "execution_count": null,
   "id": "1b3e8a4f",
   "metadata": {},
   "outputs": [],
   "source": [
    "test = SentenceAdd()\n",
    "tr.generate(input_sentence"
   ]
  },
  {
   "cell_type": "code",
   "execution_count": null,
   "id": "176b941f",
   "metadata": {},
   "outputs": [],
   "source": [
    "#replaces terms with slang ones\n",
    "tr = Slangificator()\n",
    "tr.generate(input_sentence)"
   ]
  },
  {
   "cell_type": "code",
   "execution_count": null,
   "id": "2248d7c3",
   "metadata": {},
   "outputs": [],
   "source": [
    "#produces syntactically diverse paraphrases for a given input sentence in English\n",
    "tr = ParaphraseSowReap(max_outputs=4)\n",
    "tr.generate(input_sentence)"
   ]
  }
 ],
 "metadata": {
  "kernelspec": {
   "display_name": "Python 3 (ipykernel)",
   "language": "python",
   "name": "python3"
  },
  "language_info": {
   "codemirror_mode": {
    "name": "ipython",
    "version": 3
   },
   "file_extension": ".py",
   "mimetype": "text/x-python",
   "name": "python",
   "nbconvert_exporter": "python",
   "pygments_lexer": "ipython3",
   "version": "3.8.10"
  }
 },
 "nbformat": 4,
 "nbformat_minor": 5
}
